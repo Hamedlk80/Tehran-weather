version https://git-lfs.github.com/spec/v1
oid sha256:17ef6382f2c024dc178dc5b8fe6e865640a5c5f0b2b8267b7cf43b49684c3f8c
size 35621
