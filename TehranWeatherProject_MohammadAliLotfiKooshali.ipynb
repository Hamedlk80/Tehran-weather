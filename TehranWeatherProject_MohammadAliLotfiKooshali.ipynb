version https://git-lfs.github.com/spec/v1
oid sha256:dbebb8e0630d9cd640724255f8b17e8372744b0dfea1dbc19bfea4d5ec04ef99
size 31505705
